{
  "nbformat": 4,
  "nbformat_minor": 0,
  "metadata": {
    "colab": {
      "name": "20.00 Keras API functional .ipynb",
      "provenance": [],
      "collapsed_sections": [],
      "toc_visible": true,
      "authorship_tag": "ABX9TyPpWsNgT6s40GHPxOEtVy9F",
      "include_colab_link": true
    },
    "kernelspec": {
      "name": "python3",
      "display_name": "Python 3"
    },
    "accelerator": "GPU"
  },
  "cells": [
    {
      "cell_type": "markdown",
      "metadata": {
        "id": "view-in-github",
        "colab_type": "text"
      },
      "source": [
        "<a href=\"https://colab.research.google.com/github/alexiej/laboratory/blob/master/20_00_Keras_API_functional_.ipynb\" target=\"_parent\"><img src=\"https://colab.research.google.com/assets/colab-badge.svg\" alt=\"Open In Colab\"/></a>"
      ]
    },
    {
      "cell_type": "code",
      "metadata": {
        "id": "HCRy8nNYlBC3",
        "colab_type": "code",
        "outputId": "146238dd-5e5d-4a46-d4df-37b408c6e303",
        "colab": {
          "base_uri": "https://localhost:8080/",
          "height": 323
        }
      },
      "source": [
        "%tensorflow_version 2.x\n",
        "\n",
        "import numpy as np\n",
        "import pandas as pd\n",
        "import matplotlib.pyplot as plt\n",
        "\n",
        "import tensorflow as tf\n",
        "print(\"Tensorflow version: \", tf.__version__)\n",
        "\n",
        "!nvidia-smi"
      ],
      "execution_count": 0,
      "outputs": [
        {
          "output_type": "stream",
          "text": [
            "Tensorflow version:  2.2.0\n",
            "Wed May 20 09:29:10 2020       \n",
            "+-----------------------------------------------------------------------------+\n",
            "| NVIDIA-SMI 440.82       Driver Version: 418.67       CUDA Version: 10.1     |\n",
            "|-------------------------------+----------------------+----------------------+\n",
            "| GPU  Name        Persistence-M| Bus-Id        Disp.A | Volatile Uncorr. ECC |\n",
            "| Fan  Temp  Perf  Pwr:Usage/Cap|         Memory-Usage | GPU-Util  Compute M. |\n",
            "|===============================+======================+======================|\n",
            "|   0  Tesla K80           Off  | 00000000:00:04.0 Off |                    0 |\n",
            "| N/A   36C    P8    27W / 149W |      0MiB / 11441MiB |      0%      Default |\n",
            "+-------------------------------+----------------------+----------------------+\n",
            "                                                                               \n",
            "+-----------------------------------------------------------------------------+\n",
            "| Processes:                                                       GPU Memory |\n",
            "|  GPU       PID   Type   Process name                             Usage      |\n",
            "|=============================================================================|\n",
            "|  No running processes found                                                 |\n",
            "+-----------------------------------------------------------------------------+\n"
          ],
          "name": "stdout"
        }
      ]
    },
    {
      "cell_type": "markdown",
      "metadata": {
        "id": "2yQuAXjCljqW",
        "colab_type": "text"
      },
      "source": [
        "#01 Keras Layers"
      ]
    },
    {
      "cell_type": "markdown",
      "metadata": {
        "id": "as_pChDBnwzq",
        "colab_type": "text"
      },
      "source": [
        "## Input Tensor"
      ]
    },
    {
      "cell_type": "code",
      "metadata": {
        "id": "hDK2ZfgRlHJQ",
        "colab_type": "code",
        "colab": {}
      },
      "source": [
        "from tensorflow.keras.layers import Input\n",
        "\n",
        "input_tensor = Input(shape=(1,))"
      ],
      "execution_count": 0,
      "outputs": []
    },
    {
      "cell_type": "markdown",
      "metadata": {
        "id": "1yVsts-HoE1m",
        "colab_type": "text"
      },
      "source": [
        "## Dense Layer"
      ]
    },
    {
      "cell_type": "code",
      "metadata": {
        "id": "WbcxeA--mAGU",
        "colab_type": "code",
        "outputId": "2cbcc372-c9ab-49a2-cc33-4052685da274",
        "colab": {
          "base_uri": "https://localhost:8080/",
          "height": 34
        }
      },
      "source": [
        "from tensorflow.keras.layers import Input, Dense\n",
        "\n",
        "\n",
        "output_layer = Dense(units=1)\n",
        "output_tensor = output_layer(input_tensor)\n",
        "print(output_tensor)"
      ],
      "execution_count": 0,
      "outputs": [
        {
          "output_type": "stream",
          "text": [
            "Tensor(\"dense_2/Identity:0\", shape=(None, 1), dtype=float32)\n"
          ],
          "name": "stdout"
        }
      ]
    },
    {
      "cell_type": "markdown",
      "metadata": {
        "id": "oO354M03olT8",
        "colab_type": "text"
      },
      "source": [
        "#02 Keras Model\n",
        "\n",
        "Instead of `Seqential()` model we can define our own model based on the `Graph` that include input tensor."
      ]
    },
    {
      "cell_type": "code",
      "metadata": {
        "id": "Cl9UiiCQoqgK",
        "colab_type": "code",
        "colab": {}
      },
      "source": [
        "from tensorflow.keras.layers import Input, Dense\n",
        "input_tensor = Input(shape=(13,))\n",
        "output_tensor = Dense(1)(input_tensor)\n",
        "\n",
        "from tensorflow.keras.models import  Model\n",
        "model = Model(input_tensor, output_tensor)\n"
      ],
      "execution_count": 0,
      "outputs": []
    },
    {
      "cell_type": "markdown",
      "metadata": {
        "id": "vqybeGZdp1qi",
        "colab_type": "text"
      },
      "source": [
        "## Compile model -> always required\n"
      ]
    },
    {
      "cell_type": "code",
      "metadata": {
        "id": "mg77eb4ypnJX",
        "colab_type": "code",
        "outputId": "ee382d3e-5363-4a29-8dfe-e3a334b9d79c",
        "colab": {
          "base_uri": "https://localhost:8080/",
          "height": 221
        }
      },
      "source": [
        "# Compile the model\n",
        "model.compile(optimizer='adam', loss='mean_absolute_error')\n",
        "\n",
        "model.summary()"
      ],
      "execution_count": 0,
      "outputs": [
        {
          "output_type": "stream",
          "text": [
            "Model: \"model_3\"\n",
            "_________________________________________________________________\n",
            "Layer (type)                 Output Shape              Param #   \n",
            "=================================================================\n",
            "input_5 (InputLayer)         [(None, 13)]              0         \n",
            "_________________________________________________________________\n",
            "dense_6 (Dense)              (None, 1)                 14        \n",
            "=================================================================\n",
            "Total params: 14\n",
            "Trainable params: 14\n",
            "Non-trainable params: 0\n",
            "_________________________________________________________________\n"
          ],
          "name": "stdout"
        }
      ]
    },
    {
      "cell_type": "markdown",
      "metadata": {
        "id": "1GT11SiqqVc_",
        "colab_type": "text"
      },
      "source": [
        "## PLOT MODEL"
      ]
    },
    {
      "cell_type": "code",
      "metadata": {
        "id": "08KKnx3xqKLf",
        "colab_type": "code",
        "outputId": "1b05d372-6791-4b15-ba31-d87897d76a8e",
        "colab": {
          "base_uri": "https://localhost:8080/",
          "height": 269
        }
      },
      "source": [
        "from tensorflow.keras.utils import plot_model\n",
        "import matplotlib.pyplot as plt\n",
        "\n",
        "plot_model(model, to_file='model.png')\n",
        "data = plt.imread('model.png')\n",
        "plt.imshow(data)\n",
        "plt.show()"
      ],
      "execution_count": 0,
      "outputs": [
        {
          "output_type": "display_data",
          "data": {
            "image/png": "[encoded data removed]",
            "text/plain": [
              "<Figure size 432x288 with 1 Axes>"
            ]
          },
          "metadata": {
            "tags": []
          }
        }
      ]
    },
    {
      "cell_type": "markdown",
      "metadata": {
        "id": "CdYC6vRjqpzU",
        "colab_type": "text"
      },
      "source": [
        "# 03 Fit Model\n",
        "\n"
      ]
    },
    {
      "cell_type": "code",
      "metadata": {
        "id": "ixkfugTZqjQM",
        "colab_type": "code",
        "colab": {}
      },
      "source": [
        "from tensorflow.keras.datasets import boston_housing\n",
        "(x_train, y_train), (x_test, y_test) = boston_housing.load_data()"
      ],
      "execution_count": 0,
      "outputs": []
    },
    {
      "cell_type": "code",
      "metadata": {
        "id": "09ARuaH8sGaZ",
        "colab_type": "code",
        "outputId": "75cdb3f2-01af-42ef-e923-99e92a29aa00",
        "colab": {
          "base_uri": "https://localhost:8080/",
          "height": 71
        }
      },
      "source": [
        "model.fit(x_train,y_train,\n",
        "          epochs=1,\n",
        "          batch_size=128,\n",
        "          validation_split=0.1,\n",
        "          verbose=True);"
      ],
      "execution_count": 0,
      "outputs": [
        {
          "output_type": "stream",
          "text": [
            "Train on 363 samples, validate on 41 samples\n",
            "363/363 [==============================] - 0s 45us/sample - loss: 298.2135 - val_loss: 286.0095\n"
          ],
          "name": "stdout"
        }
      ]
    },
    {
      "cell_type": "markdown",
      "metadata": {
        "id": "W9_LqKS4sy9e",
        "colab_type": "text"
      },
      "source": [
        "# 04 Evaluate Model on test dataset"
      ]
    },
    {
      "cell_type": "code",
      "metadata": {
        "id": "CxVsYFI9sHmZ",
        "colab_type": "code",
        "outputId": "d22525ff-0435-4e5a-c4d3-f6b180a24793",
        "colab": {
          "base_uri": "https://localhost:8080/",
          "height": 34
        }
      },
      "source": [
        "print(model.evaluate(x_test,y_test,verbose=False))"
      ],
      "execution_count": 0,
      "outputs": [
        {
          "output_type": "stream",
          "text": [
            "303.66128001493564\n"
          ],
          "name": "stdout"
        }
      ]
    },
    {
      "cell_type": "code",
      "metadata": {
        "id": "hdKPBZVItKPK",
        "colab_type": "code",
        "colab": {}
      },
      "source": [
        ""
      ],
      "execution_count": 0,
      "outputs": []
    }
  ]
}